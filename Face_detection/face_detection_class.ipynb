{
 "cells": [
  {
   "cell_type": "code",
   "execution_count": 2,
   "metadata": {},
   "outputs": [],
   "source": [
    "#Import Libraries\n",
    "import cv2 as cv\n",
    "import numpy as np\n",
    "import matplotlib.pyplot as plt\n",
    "%matplotlib inline"
   ]
  },
  {
   "cell_type": "markdown",
   "metadata": {},
   "source": [
    "### Using Image"
   ]
  },
  {
   "cell_type": "code",
   "execution_count": 2,
   "metadata": {},
   "outputs": [],
   "source": [
    "# Load the cascade\n",
    "face_cascade = cv.CascadeClassifier('haarcascade_frontalface_default.xml')\n",
    "\n",
    "# read the input image\n",
    "img = cv.imread(\"data/indian.jpg\")\n",
    "\n",
    "# Convert it into Greyscale\n",
    "gray = cv.cvtColor(img,cv.COLOR_BGR2GRAY)\n"
   ]
  },
  {
   "cell_type": "code",
   "execution_count": 4,
   "metadata": {},
   "outputs": [],
   "source": [
    "# # show image\n",
    "# cv.namedWindow('Team',cv.WINDOW_AUTOSIZE)\n",
    "# cv.imshow('Team',gray)\n",
    "# cv.waitKey(0)\n",
    "# cv.destroyAllWindows()"
   ]
  },
  {
   "cell_type": "code",
   "execution_count": 5,
   "metadata": {},
   "outputs": [],
   "source": [
    "# Detect faces\n",
    "\n",
    "faces = face_cascade.detectMultiScale(gray,1.1,4)"
   ]
  },
  {
   "cell_type": "code",
   "execution_count": 10,
   "metadata": {},
   "outputs": [],
   "source": [
    "img = cv.imread(\"data/indian.jpg\")\n",
    "\n",
    "for (x,y,w,h) in faces:\n",
    "    cv.rectangle(img,(x,y),(x+w,y+h),(0,0,255),1)\n",
    "\n",
    "# Diaplay the image\n",
    "cv.imshow('Team',img)\n",
    "cv.waitKey(0)\n",
    "cv.destroyAllWindows()"
   ]
  },
  {
   "cell_type": "markdown",
   "metadata": {},
   "source": [
    "# Using Video"
   ]
  },
  {
   "cell_type": "code",
   "execution_count": 3,
   "metadata": {},
   "outputs": [],
   "source": [
    "# Load the cascade\n",
    "face_cascade = cv.CascadeClassifier('haarcascade_frontalface_default.xml')\n",
    "\n",
    "# To capture video from webcam\n",
    "cap = cv.VideoCapture(0)\n",
    "# To use a video as input\n",
    "#cap = cv.VideoCapture('filename.mp4')\n",
    "\n",
    "while True:\n",
    "    # read the frame\n",
    "    _, img = cap.read()\n",
    "\n",
    "    # Convert it into Greyscale\n",
    "    gray = cv.cvtColor(img,cv.COLOR_BGR2GRAY)\n",
    "\n",
    "    # Detect faces\n",
    "    faces = face_cascade.detectMultiScale(gray,1.1,4)\n",
    "\n",
    "    for (x,y,w,h) in faces:\n",
    "        cv.rectangle(img,(x,y),(x+w,y+h),(0,0,255),2)\n",
    "\n",
    "    # Diaplay the image\n",
    "    cv.imshow('img',img)\n",
    "    \n",
    "    # stop if escape key is pressed\n",
    "    k = cv.waitKey(30) &  0xff \n",
    "    if k==27:\n",
    "        break\n",
    "\n",
    "# Release the video capture\n",
    "cap.release()\n",
    "\n",
    "\n",
    "    "
   ]
  },
  {
   "cell_type": "code",
   "execution_count": null,
   "metadata": {},
   "outputs": [],
   "source": []
  }
 ],
 "metadata": {
  "kernelspec": {
   "display_name": "Python 3.8.13 ('opencv')",
   "language": "python",
   "name": "python3"
  },
  "language_info": {
   "codemirror_mode": {
    "name": "ipython",
    "version": 3
   },
   "file_extension": ".py",
   "mimetype": "text/x-python",
   "name": "python",
   "nbconvert_exporter": "python",
   "pygments_lexer": "ipython3",
   "version": "3.8.13"
  },
  "orig_nbformat": 4,
  "vscode": {
   "interpreter": {
    "hash": "7cc73e34d1c0058d1540b583aaf16313dc17bbeb374c5c6727deeb16b87fecda"
   }
  }
 },
 "nbformat": 4,
 "nbformat_minor": 2
}
