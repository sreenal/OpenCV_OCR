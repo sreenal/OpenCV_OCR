{
 "cells": [
  {
   "cell_type": "code",
   "execution_count": 1,
   "metadata": {},
   "outputs": [],
   "source": [
    "import cv2 as cv\n",
    "import numpy as np\n",
    "import matplotlib.pyplot as plt\n",
    "%matplotlib inline\n"
   ]
  },
  {
   "cell_type": "markdown",
   "metadata": {},
   "source": [
    "Load cascade"
   ]
  },
  {
   "cell_type": "code",
   "execution_count": 2,
   "metadata": {},
   "outputs": [],
   "source": [
    "face_cascade=cv.CascadeClassifier('/home/sreenal/AI/Opencv/Face_detection/haarcascade_frontalface_default.xml')"
   ]
  },
  {
   "cell_type": "code",
   "execution_count": 4,
   "metadata": {},
   "outputs": [],
   "source": [
    "img = cv.imread(\"/home/sreenal/AI/Opencv/Face_detection/grp_img.jpg\") # Convert it into Greyscale \n",
    "gray = cv.cvtColor(img,cv.COLOR_BGR2GRAY) "
   ]
  },
  {
   "cell_type": "markdown",
   "metadata": {},
   "source": [
    "Detect Faces"
   ]
  },
  {
   "cell_type": "code",
   "execution_count": null,
   "metadata": {},
   "outputs": [],
   "source": [
    "faces=face_cascade.detectMultiScale(gray,1.1,4)"
   ]
  },
  {
   "cell_type": "code",
   "execution_count": 5,
   "metadata": {},
   "outputs": [
    {
     "data": {
      "text/plain": [
       "array([[326, 142,  70,  70],\n",
       "       [171, 129,  80,  80],\n",
       "       [269, 132,  71,  71],\n",
       "       [470, 147,  74,  74],\n",
       "       [395, 153,  78,  78],\n",
       "       [113, 344,  65,  65]], dtype=int32)"
      ]
     },
     "execution_count": 5,
     "metadata": {},
     "output_type": "execute_result"
    }
   ],
   "source": [
    "faces"
   ]
  },
  {
   "cell_type": "markdown",
   "metadata": {},
   "source": [
    "To Display face Detected"
   ]
  },
  {
   "cell_type": "code",
   "execution_count": 6,
   "metadata": {},
   "outputs": [],
   "source": [
    "for (x,y,w,h) in faces:\n",
    "    cv.rectangle(img,(x,y),(x+w,y+h),(0,255,0),2)\n",
    "cv.imshow('Group',img) \n",
    "cv.waitKey(0) \n",
    "cv.destroyAllWindows() "
   ]
  },
  {
   "cell_type": "markdown",
   "metadata": {},
   "source": [
    "Using Vedio Web Camera"
   ]
  },
  {
   "cell_type": "code",
   "execution_count": null,
   "metadata": {},
   "outputs": [],
   "source": [
    "# Load the cascade\n",
    "face_cascade = cv.CascadeClassifier('haarcascade_frontalface_default.xml')\n",
    "\n",
    "# To capture video from webcam\n",
    "cap = cv.VideoCapture(0)\n",
    "# To use a video as input\n",
    "#cap = cv.VideoCapture('filename.mp4')\n",
    "\n",
    "while True:\n",
    "    # read the frame\n",
    "    _, img = cap.read()\n",
    "\n",
    "    # Convert it into Greyscale\n",
    "    gray = cv.cvtColor(img,cv.COLOR_BGR2GRAY)\n",
    "\n",
    "    # Detect faces\n",
    "    faces = face_cascade.detectMultiScale(gray,1.1,4)\n",
    "\n",
    "    for (x,y,w,h) in faces:\n",
    "        cv.rectangle(img,(x,y),(x+w,y+h),(0,0,255),2)\n",
    "\n",
    "    # Diaplay the image\n",
    "    cv.imshow('img',img)\n",
    "    \n",
    "    # stop if escape key is pressed\n",
    "    k = cv.waitKey(30) &  0xff \n",
    "    if k==27:\n",
    "        break\n",
    "\n",
    "# Release the video capture\n",
    "cap.release()"
   ]
  },
  {
   "cell_type": "markdown",
   "metadata": {},
   "source": [
    "Face Detection Using Vedios"
   ]
  },
  {
   "cell_type": "code",
   "execution_count": null,
   "metadata": {},
   "outputs": [],
   "source": [
    "# Load the cascade\n",
    "face_cascade = cv.CascadeClassifier('haarcascade_frontalface_default.xml')\n",
    "\n",
    "# To capture video from webcam\n",
    "cap = cv.VideoCapture('/home/sreenal/AI/Opencv/Face_detection/vdo.mp4')\n",
    "# To use a video as input\n",
    "#cap = cv.VideoCapture('filename.mp4')\n",
    "\n",
    "while True:\n",
    "    # read the frame\n",
    "    _, img = cap.read()\n",
    "\n",
    "    # Convert it into Greyscale\n",
    "    gray = cv.cvtColor(img,cv.COLOR_BGR2GRAY)\n",
    "\n",
    "    # Detect faces\n",
    "    faces = face_cascade.detectMultiScale(gray,1.1,4)\n",
    "\n",
    "    for (x,y,w,h) in faces:\n",
    "        cv.rectangle(img,(x,y),(x+w,y+h),(0,0,255),2)\n",
    "\n",
    "    # Diaplay the image\n",
    "    cv.imshow('img',img)\n",
    "    \n",
    "    # stop if escape key is pressed\n",
    "    k = cv.waitKey(30) &  0xff \n",
    "    if k==27:\n",
    "        break\n",
    "\n",
    "# Release the video capture\n",
    "cap.release()"
   ]
  },
  {
   "cell_type": "code",
   "execution_count": null,
   "metadata": {},
   "outputs": [],
   "source": []
  }
 ],
 "metadata": {
  "kernelspec": {
   "display_name": "Python 3.8.0 ('opencv')",
   "language": "python",
   "name": "python3"
  },
  "language_info": {
   "codemirror_mode": {
    "name": "ipython",
    "version": 3
   },
   "file_extension": ".py",
   "mimetype": "text/x-python",
   "name": "python",
   "nbconvert_exporter": "python",
   "pygments_lexer": "ipython3",
   "version": "3.8.0"
  },
  "orig_nbformat": 4,
  "vscode": {
   "interpreter": {
    "hash": "527f52e9191a821912fe692071272aad8e8f8b02702022d49effade3b2d30b87"
   }
  }
 },
 "nbformat": 4,
 "nbformat_minor": 2
}
